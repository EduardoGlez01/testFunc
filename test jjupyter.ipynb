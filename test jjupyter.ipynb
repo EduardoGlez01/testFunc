{
 "cells": [
  {
   "cell_type": "code",
   "execution_count": 2,
   "id": "553cf0cc",
   "metadata": {},
   "outputs": [
    {
     "name": "stdout",
     "output_type": "stream",
     "text": [
      "Collecting git+https://github.com/EduardoGlez01/testFunc.git\n",
      "  Cloning https://github.com/EduardoGlez01/testFunc.git to /private/var/folders/nf/t0yf6ph150x0p9rsc7rplh600000gn/T/pip-req-build-jmwdedsz\n",
      "  Running command git clone --filter=blob:none --quiet https://github.com/EduardoGlez01/testFunc.git /private/var/folders/nf/t0yf6ph150x0p9rsc7rplh600000gn/T/pip-req-build-jmwdedsz\n",
      "  Resolved https://github.com/EduardoGlez01/testFunc.git to commit 073131cc72d10f79c0e51444575569c15a144728\n",
      "  Preparing metadata (setup.py) ... \u001b[?25lerror\n",
      "  \u001b[1;31merror\u001b[0m: \u001b[1msubprocess-exited-with-error\u001b[0m\n",
      "  \n",
      "  \u001b[31m×\u001b[0m \u001b[32mpython setup.py egg_info\u001b[0m did not run successfully.\n",
      "  \u001b[31m│\u001b[0m exit code: \u001b[1;36m1\u001b[0m\n",
      "  \u001b[31m╰─>\u001b[0m \u001b[31m[7 lines of output]\u001b[0m\n",
      "  \u001b[31m   \u001b[0m running egg_info\n",
      "  \u001b[31m   \u001b[0m creating /private/var/folders/nf/t0yf6ph150x0p9rsc7rplh600000gn/T/pip-pip-egg-info-4x92vdf4/pip_package_demo.egg-info\n",
      "  \u001b[31m   \u001b[0m writing /private/var/folders/nf/t0yf6ph150x0p9rsc7rplh600000gn/T/pip-pip-egg-info-4x92vdf4/pip_package_demo.egg-info/PKG-INFO\n",
      "  \u001b[31m   \u001b[0m writing dependency_links to /private/var/folders/nf/t0yf6ph150x0p9rsc7rplh600000gn/T/pip-pip-egg-info-4x92vdf4/pip_package_demo.egg-info/dependency_links.txt\n",
      "  \u001b[31m   \u001b[0m writing top-level names to /private/var/folders/nf/t0yf6ph150x0p9rsc7rplh600000gn/T/pip-pip-egg-info-4x92vdf4/pip_package_demo.egg-info/top_level.txt\n",
      "  \u001b[31m   \u001b[0m writing manifest file '/private/var/folders/nf/t0yf6ph150x0p9rsc7rplh600000gn/T/pip-pip-egg-info-4x92vdf4/pip_package_demo.egg-info/SOURCES.txt'\n",
      "  \u001b[31m   \u001b[0m error: package directory 'demo' does not exist\n",
      "  \u001b[31m   \u001b[0m \u001b[31m[end of output]\u001b[0m\n",
      "  \n",
      "  \u001b[1;35mnote\u001b[0m: This error originates from a subprocess, and is likely not a problem with pip.\n",
      "\u001b[1;31merror\u001b[0m: \u001b[1mmetadata-generation-failed\u001b[0m\n",
      "\n",
      "\u001b[31m×\u001b[0m Encountered error while generating package metadata.\n",
      "\u001b[31m╰─>\u001b[0m See above for output.\n",
      "\n",
      "\u001b[1;35mnote\u001b[0m: This is an issue with the package mentioned above, not pip.\n",
      "\u001b[1;36mhint\u001b[0m: See above for details.\n",
      "\u001b[?25hNote: you may need to restart the kernel to use updated packages.\n"
     ]
    }
   ],
   "source": [
    "pip install git+https://github.com/EduardoGlez01/testFunc.git"
   ]
  }
 ],
 "metadata": {
  "kernelspec": {
   "display_name": "Python 3 (ipykernel)",
   "language": "python",
   "name": "python3"
  },
  "language_info": {
   "codemirror_mode": {
    "name": "ipython",
    "version": 3
   },
   "file_extension": ".py",
   "mimetype": "text/x-python",
   "name": "python",
   "nbconvert_exporter": "python",
   "pygments_lexer": "ipython3",
   "version": "3.9.13"
  }
 },
 "nbformat": 4,
 "nbformat_minor": 5
}
