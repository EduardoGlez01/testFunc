{
 "cells": [
  {
   "cell_type": "code",
   "execution_count": 1,
   "id": "43716e9d",
   "metadata": {},
   "outputs": [
    {
     "name": "stdout",
     "output_type": "stream",
     "text": [
      "Collecting git+https://github.com/EduardoGlez01/testFunc.git\n",
      "  Cloning https://github.com/EduardoGlez01/testFunc.git to /private/var/folders/nf/t0yf6ph150x0p9rsc7rplh600000gn/T/pip-req-build-w8m48k_0\n",
      "  Running command git clone --filter=blob:none --quiet https://github.com/EduardoGlez01/testFunc.git /private/var/folders/nf/t0yf6ph150x0p9rsc7rplh600000gn/T/pip-req-build-w8m48k_0\n",
      "  Resolved https://github.com/EduardoGlez01/testFunc.git to commit 5ad7b0bb240c71c391fd659685c9978710127e2a\n",
      "\u001b[31mERROR: git+https://github.com/EduardoGlez01/testFunc.git does not appear to be a Python project: neither 'setup.py' nor 'pyproject.toml' found.\u001b[0m\u001b[31m\n",
      "\u001b[0mNote: you may need to restart the kernel to use updated packages.\n"
     ]
    }
   ],
   "source": [
    "pip install git+https://github.com/EduardoGlez01/testFunc.git"
   ]
  }
 ],
 "metadata": {
  "kernelspec": {
   "display_name": "Python 3 (ipykernel)",
   "language": "python",
   "name": "python3"
  },
  "language_info": {
   "codemirror_mode": {
    "name": "ipython",
    "version": 3
   },
   "file_extension": ".py",
   "mimetype": "text/x-python",
   "name": "python",
   "nbconvert_exporter": "python",
   "pygments_lexer": "ipython3",
   "version": "3.9.13"
  }
 },
 "nbformat": 4,
 "nbformat_minor": 5
}
